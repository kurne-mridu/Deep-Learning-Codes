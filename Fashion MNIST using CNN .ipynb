{
 "cells": [
  {
   "cell_type": "code",
   "execution_count": 5,
   "id": "8f4d0686",
   "metadata": {},
   "outputs": [],
   "source": [
    "import numpy as np\n",
    "import pandas as pd\n",
    "%matplotlib inline\n",
    "import matplotlib as mpl\n",
    "import matplotlib.pyplot as plt\n"
   ]
  },
  {
   "cell_type": "code",
   "execution_count": 6,
   "id": "9e6ba7b4",
   "metadata": {},
   "outputs": [],
   "source": [
    "import tensorflow as tf\n",
    "from tensorflow import keras"
   ]
  },
  {
   "cell_type": "code",
   "execution_count": 7,
   "id": "8a74ba97",
   "metadata": {},
   "outputs": [],
   "source": [
    "from keras.datasets import fashion_mnist"
   ]
  },
  {
   "cell_type": "code",
   "execution_count": 8,
   "id": "602a8680",
   "metadata": {},
   "outputs": [],
   "source": [
    "fashion_mnist=keras.datasets.fashion_mnist\n",
    "(X_train_full,y_train_full),(X_test,y_test)=fashion_mnist.load_data()"
   ]
  },
  {
   "cell_type": "code",
   "execution_count": 9,
   "id": "37e5ad73",
   "metadata": {},
   "outputs": [],
   "source": [
    "class_names=[\"T-shirt/top\",\"Trouser\",\"Pullover\",\"Dress\",\"Coat\",\"Sandal\",\"Bag\",\"Ankle boot\"]"
   ]
  },
  {
   "cell_type": "code",
   "execution_count": 10,
   "id": "b00db1ae",
   "metadata": {},
   "outputs": [],
   "source": [
    "#DATA RESHAPE\n",
    "X_train_full=X_train_full.reshape((60000,28,28,1))\n",
    "X_test=X_test.reshape((10000,28,28,1))"
   ]
  },
  {
   "cell_type": "code",
   "execution_count": 11,
   "id": "1f1eebc6",
   "metadata": {},
   "outputs": [],
   "source": [
    "#DATA NORMALIZATION\n",
    "X_train_n=X_train_full/255.0\n",
    "X_test_n=X_test/255.0"
   ]
  },
  {
   "cell_type": "code",
   "execution_count": 12,
   "id": "0d7ff89b",
   "metadata": {},
   "outputs": [],
   "source": [
    "#split the data into train/validation/test datasets\n",
    "\n",
    "X_valid,X_train=X_train_n[:5000],X_train_n[5000:]\n",
    "y_valid,y_train=y_train_full[:5000],y_train_full[5000:]\n",
    "X_test=X_test_n"
   ]
  },
  {
   "cell_type": "code",
   "execution_count": 13,
   "id": "d0c4c5fe",
   "metadata": {},
   "outputs": [],
   "source": [
    "#create the model architecture\n",
    "np.random.seed(42)\n",
    "tf.random.set_seed(42)"
   ]
  },
  {
   "cell_type": "code",
   "execution_count": 14,
   "id": "7db807e9",
   "metadata": {},
   "outputs": [],
   "source": [
    "#architecture\n",
    "model=keras.models.Sequential()\n",
    "model.add(keras.layers.Conv2D(filters=32,kernel_size=(3,3),strides=1,padding='valid',activation='relu',input_shape=(28,28,1)))\n",
    "model.add(keras.layers.MaxPooling2D((2,2)))\n",
    "\n",
    "model.add(keras.layers.Flatten())\n",
    "model.add(keras.layers.Dense(300,activation=\"relu\"))\n",
    "model.add(keras.layers.Dense(100,activation=\"relu\"))\n",
    "model.add(keras.layers.Dense(10,activation=\"softmax\"))"
   ]
  },
  {
   "cell_type": "code",
   "execution_count": 15,
   "id": "b5204286",
   "metadata": {},
   "outputs": [
    {
     "name": "stdout",
     "output_type": "stream",
     "text": [
      "Model: \"sequential\"\n",
      "_________________________________________________________________\n",
      "Layer (type)                 Output Shape              Param #   \n",
      "=================================================================\n",
      "conv2d (Conv2D)              (None, 26, 26, 32)        320       \n",
      "_________________________________________________________________\n",
      "max_pooling2d (MaxPooling2D) (None, 13, 13, 32)        0         \n",
      "_________________________________________________________________\n",
      "flatten (Flatten)            (None, 5408)              0         \n",
      "_________________________________________________________________\n",
      "dense (Dense)                (None, 300)               1622700   \n",
      "_________________________________________________________________\n",
      "dense_1 (Dense)              (None, 100)               30100     \n",
      "_________________________________________________________________\n",
      "dense_2 (Dense)              (None, 10)                1010      \n",
      "=================================================================\n",
      "Total params: 1,654,130\n",
      "Trainable params: 1,654,130\n",
      "Non-trainable params: 0\n",
      "_________________________________________________________________\n"
     ]
    }
   ],
   "source": [
    "model.summary()"
   ]
  },
  {
   "cell_type": "code",
   "execution_count": 16,
   "id": "31b9d213",
   "metadata": {},
   "outputs": [],
   "source": [
    "model.compile(loss=\"sparse_categorical_crossentropy\",\n",
    "             optimizer=\"sgd\",\n",
    "             metrics=[\"accuracy\"])"
   ]
  },
  {
   "cell_type": "code",
   "execution_count": 20,
   "id": "9ed8a46f",
   "metadata": {},
   "outputs": [
    {
     "name": "stdout",
     "output_type": "stream",
     "text": [
      "Epoch 1/30\n",
      "860/860 [==============================] - 33s 38ms/step - loss: 0.2024 - accuracy: 0.9262 - val_loss: 0.2791 - val_accuracy: 0.8962\n",
      "Epoch 2/30\n",
      "860/860 [==============================] - 35s 40ms/step - loss: 0.1980 - accuracy: 0.9286 - val_loss: 0.2539 - val_accuracy: 0.9056\n",
      "Epoch 3/30\n",
      "860/860 [==============================] - 34s 39ms/step - loss: 0.1948 - accuracy: 0.9289 - val_loss: 0.3846 - val_accuracy: 0.8612\n",
      "Epoch 4/30\n",
      "860/860 [==============================] - 32s 38ms/step - loss: 0.1903 - accuracy: 0.9301 - val_loss: 0.2760 - val_accuracy: 0.9010\n",
      "Epoch 5/30\n",
      "860/860 [==============================] - 33s 38ms/step - loss: 0.1887 - accuracy: 0.9315 - val_loss: 0.2507 - val_accuracy: 0.9098\n",
      "Epoch 6/30\n",
      "860/860 [==============================] - 33s 38ms/step - loss: 0.1832 - accuracy: 0.9335 - val_loss: 0.2495 - val_accuracy: 0.9094\n",
      "Epoch 7/30\n",
      "860/860 [==============================] - 33s 38ms/step - loss: 0.1798 - accuracy: 0.9349 - val_loss: 0.2791 - val_accuracy: 0.9040\n",
      "Epoch 8/30\n",
      "860/860 [==============================] - 33s 38ms/step - loss: 0.1767 - accuracy: 0.9354 - val_loss: 0.3003 - val_accuracy: 0.8906\n",
      "Epoch 9/30\n",
      "860/860 [==============================] - 33s 38ms/step - loss: 0.1725 - accuracy: 0.9374 - val_loss: 0.2645 - val_accuracy: 0.9062\n",
      "Epoch 10/30\n",
      "860/860 [==============================] - 32s 38ms/step - loss: 0.1685 - accuracy: 0.9390 - val_loss: 0.2684 - val_accuracy: 0.9074\n",
      "Epoch 11/30\n",
      "860/860 [==============================] - 33s 38ms/step - loss: 0.1656 - accuracy: 0.9397 - val_loss: 0.2500 - val_accuracy: 0.9102\n",
      "Epoch 12/30\n",
      "860/860 [==============================] - 33s 38ms/step - loss: 0.1612 - accuracy: 0.9407 - val_loss: 0.2563 - val_accuracy: 0.9080\n",
      "Epoch 13/30\n",
      "860/860 [==============================] - 33s 38ms/step - loss: 0.1589 - accuracy: 0.9435 - val_loss: 0.2881 - val_accuracy: 0.8984\n",
      "Epoch 14/30\n",
      "860/860 [==============================] - 33s 38ms/step - loss: 0.1561 - accuracy: 0.9441 - val_loss: 0.2932 - val_accuracy: 0.8938\n",
      "Epoch 15/30\n",
      "860/860 [==============================] - 33s 38ms/step - loss: 0.1516 - accuracy: 0.9458 - val_loss: 0.2592 - val_accuracy: 0.9084\n",
      "Epoch 16/30\n",
      "860/860 [==============================] - 33s 39ms/step - loss: 0.1488 - accuracy: 0.9474 - val_loss: 0.2504 - val_accuracy: 0.9120\n",
      "Epoch 17/30\n",
      "860/860 [==============================] - 34s 39ms/step - loss: 0.1447 - accuracy: 0.9477 - val_loss: 0.3206 - val_accuracy: 0.8918\n",
      "Epoch 18/30\n",
      "860/860 [==============================] - 33s 38ms/step - loss: 0.1427 - accuracy: 0.9490 - val_loss: 0.2824 - val_accuracy: 0.9082\n",
      "Epoch 19/30\n",
      "860/860 [==============================] - 33s 39ms/step - loss: 0.1391 - accuracy: 0.9506 - val_loss: 0.2872 - val_accuracy: 0.9044\n",
      "Epoch 20/30\n",
      "860/860 [==============================] - 32s 37ms/step - loss: 0.1358 - accuracy: 0.9523 - val_loss: 0.2648 - val_accuracy: 0.9066\n",
      "Epoch 21/30\n",
      "860/860 [==============================] - 32s 38ms/step - loss: 0.1326 - accuracy: 0.9534 - val_loss: 0.2444 - val_accuracy: 0.9142\n",
      "Epoch 22/30\n",
      "860/860 [==============================] - 33s 38ms/step - loss: 0.1292 - accuracy: 0.9549 - val_loss: 0.2756 - val_accuracy: 0.9048\n",
      "Epoch 23/30\n",
      "860/860 [==============================] - 32s 38ms/step - loss: 0.1259 - accuracy: 0.9560 - val_loss: 0.2552 - val_accuracy: 0.9138\n",
      "Epoch 24/30\n",
      "860/860 [==============================] - 33s 38ms/step - loss: 0.1221 - accuracy: 0.9566 - val_loss: 0.2813 - val_accuracy: 0.9044\n",
      "Epoch 25/30\n",
      "860/860 [==============================] - 33s 38ms/step - loss: 0.1205 - accuracy: 0.9565 - val_loss: 0.2585 - val_accuracy: 0.9106\n",
      "Epoch 26/30\n",
      "860/860 [==============================] - 33s 38ms/step - loss: 0.1174 - accuracy: 0.9584 - val_loss: 0.2562 - val_accuracy: 0.9134\n",
      "Epoch 27/30\n",
      "860/860 [==============================] - 33s 39ms/step - loss: 0.1142 - accuracy: 0.9592 - val_loss: 0.2484 - val_accuracy: 0.9152\n",
      "Epoch 28/30\n",
      "860/860 [==============================] - 33s 38ms/step - loss: 0.1121 - accuracy: 0.9601 - val_loss: 0.2787 - val_accuracy: 0.9036\n",
      "Epoch 29/30\n",
      "860/860 [==============================] - 32s 38ms/step - loss: 0.1084 - accuracy: 0.9621 - val_loss: 0.2502 - val_accuracy: 0.9168\n",
      "Epoch 30/30\n",
      "860/860 [==============================] - 32s 38ms/step - loss: 0.1060 - accuracy: 0.9631 - val_loss: 0.2552 - val_accuracy: 0.9140\n"
     ]
    }
   ],
   "source": [
    "model_history=model.fit(X_train,y_train,epochs=30,batch_size=64,\n",
    "                       validation_data=(X_valid,y_valid))"
   ]
  },
  {
   "cell_type": "code",
   "execution_count": 21,
   "id": "d889cdc9",
   "metadata": {},
   "outputs": [
    {
     "data": {
      "image/png": "[encoded data removed]",
      "text/plain": [
       "<Figure size 576x360 with 1 Axes>"
      ]
     },
     "metadata": {
      "needs_background": "light"
     },
     "output_type": "display_data"
    }
   ],
   "source": [
    "pd.DataFrame(model_history.history).plot(figsize=(8,5))\n",
    "plt.grid(True)\n",
    "plt.gca().set_ylim(0,1) \n",
    "plt.show()"
   ]
  },
  {
   "cell_type": "code",
   "execution_count": 22,
   "id": "c79989dc",
   "metadata": {},
   "outputs": [
    {
     "name": "stdout",
     "output_type": "stream",
     "text": [
      "313/313 [==============================] - 3s 8ms/step - loss: 0.2658 - accuracy: 0.9139\n"
     ]
    }
   ],
   "source": [
    "ev=model.evaluate(X_test_n,y_test)"
   ]
  },
  {
   "cell_type": "code",
   "execution_count": 23,
   "id": "237f2e44",
   "metadata": {},
   "outputs": [
    {
     "data": {
      "text/plain": [
       "[0.26582071185112, 0.9139000177383423]"
      ]
     },
     "execution_count": 23,
     "metadata": {},
     "output_type": "execute_result"
    }
   ],
   "source": [
    "ev"
   ]
  },
  {
   "cell_type": "code",
   "execution_count": 24,
   "id": "80d5ae86",
   "metadata": {},
   "outputs": [],
   "source": [
    "X_new=X_test[:3]"
   ]
  },
  {
   "cell_type": "code",
   "execution_count": 25,
   "id": "361b176d",
   "metadata": {},
   "outputs": [
    {
     "name": "stdout",
     "output_type": "stream",
     "text": [
      "WARNING:tensorflow:From <ipython-input-25-3306f3af3b8e>:1: Sequential.predict_classes (from tensorflow.python.keras.engine.sequential) is deprecated and will be removed after 2021-01-01.\n",
      "Instructions for updating:\n",
      "Please use instead:* `np.argmax(model.predict(x), axis=-1)`,   if your model does multi-class classification   (e.g. if it uses a `softmax` last-layer activation).* `(model.predict(x) > 0.5).astype(\"int32\")`,   if your model does binary classification   (e.g. if it uses a `sigmoid` last-layer activation).\n"
     ]
    },
    {
     "data": {
      "text/plain": [
       "array([9, 2, 1], dtype=int64)"
      ]
     },
     "execution_count": 25,
     "metadata": {},
     "output_type": "execute_result"
    }
   ],
   "source": [
    "y_pred=model.predict_classes(X_new)\n",
    "y_pred"
   ]
  },
  {
   "cell_type": "code",
   "execution_count": 26,
   "id": "582e27ba",
   "metadata": {},
   "outputs": [
    {
     "data": {
      "text/plain": [
       "array([9, 2, 1], dtype=uint8)"
      ]
     },
     "execution_count": 26,
     "metadata": {},
     "output_type": "execute_result"
    }
   ],
   "source": [
    "y_test[:3]"
   ]
  },
  {
   "cell_type": "code",
   "execution_count": 32,
   "id": "385cf38b",
   "metadata": {},
   "outputs": [
    {
     "name": "stdout",
     "output_type": "stream",
     "text": [
      "AxesImage(54,36;334.8x217.44)\n"
     ]
    },
    {
     "data": {
      "image/png": "[encoded data removed]",
      "text/plain": [
       "<Figure size 432x288 with 1 Axes>"
      ]
     },
     "metadata": {
      "needs_background": "light"
     },
     "output_type": "display_data"
    }
   ],
   "source": [
    "print(plt.imshow(X_test[1].reshape((28,28))))"
   ]
  }
 ],
 "metadata": {
  "kernelspec": {
   "display_name": "Python 3",
   "language": "python",
   "name": "python3"
  },
  "language_info": {
   "codemirror_mode": {
    "name": "ipython",
    "version": 3
   },
   "file_extension": ".py",
   "mimetype": "text/x-python",
   "name": "python",
   "nbconvert_exporter": "python",
   "pygments_lexer": "ipython3",
   "version": "3.8.8"
  }
 },
 "nbformat": 4,
 "nbformat_minor": 5
}
