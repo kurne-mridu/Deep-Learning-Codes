{
 "cells": [
  {
   "cell_type": "code",
   "execution_count": 33,
   "id": "18e9d291",
   "metadata": {},
   "outputs": [],
   "source": [
    "import tensorflow as tf\n",
    "from tensorflow import keras\n",
    "import numpy as np\n",
    "import pandas as pd\n",
    "import pydot\n"
   ]
  },
  {
   "cell_type": "code",
   "execution_count": 22,
   "id": "de9fbf6a",
   "metadata": {},
   "outputs": [],
   "source": [
    "#loading of data\n",
    "from keras.datasets import mnist\n",
    "digit_mnist=keras.datasets.mnist"
   ]
  },
  {
   "cell_type": "code",
   "execution_count": 23,
   "id": "a78fd663",
   "metadata": {},
   "outputs": [],
   "source": [
    "(X_train_full,y_train_full),(X_test,y_test)=digit_mnist.load_data()"
   ]
  },
  {
   "cell_type": "code",
   "execution_count": 24,
   "id": "e0056929",
   "metadata": {},
   "outputs": [
    {
     "data": {
      "text/plain": [
       "<matplotlib.image.AxesImage at 0x1ee801b1430>"
      ]
     },
     "execution_count": 24,
     "metadata": {},
     "output_type": "execute_result"
    },
    {
     "data": {
      "image/png": "[encoded data removed]",
      "text/plain": [
       "<Figure size 432x288 with 1 Axes>"
      ]
     },
     "metadata": {
      "needs_background": "light"
     },
     "output_type": "display_data"
    }
   ],
   "source": [
    "import matplotlib.pyplot as plt\n",
    "plt.imshow(X_train_full[0])"
   ]
  },
  {
   "cell_type": "code",
   "execution_count": 25,
   "id": "cd5eb443",
   "metadata": {},
   "outputs": [
    {
     "data": {
      "text/plain": [
       "5"
      ]
     },
     "execution_count": 25,
     "metadata": {},
     "output_type": "execute_result"
    }
   ],
   "source": [
    "y_train_full[0]"
   ]
  },
  {
   "cell_type": "code",
   "execution_count": 26,
   "id": "10ec70ce",
   "metadata": {},
   "outputs": [],
   "source": [
    "#data normalization\n",
    "X_train_n=X_train_full/255.0\n",
    "X_test_n=X_test/255.0"
   ]
  },
  {
   "cell_type": "code",
   "execution_count": 27,
   "id": "037af99b",
   "metadata": {},
   "outputs": [],
   "source": [
    "#split the data into train/validation/test datasets\n",
    "X_valid,X_train=X_train_n[:6000],X_train_n[6000:]\n",
    "y_valid,y_train=y_train_full[:6000],y_train_full[6000:]\n",
    "X_test=X_test_n"
   ]
  },
  {
   "cell_type": "code",
   "execution_count": 20,
   "id": "86f5762f",
   "metadata": {},
   "outputs": [
    {
     "data": {
      "text/plain": [
       "array([[0.        , 0.        , 0.        , 0.        , 0.        ,\n",
       "        0.        , 0.        , 0.        , 0.        , 0.        ,\n",
       "        0.        , 0.        , 0.        , 0.        , 0.        ,\n",
       "        0.        , 0.        , 0.        , 0.        , 0.        ,\n",
       "        0.        , 0.        , 0.        , 0.        , 0.        ,\n",
       "        0.        , 0.        , 0.        ],\n",
       "       [0.        , 0.        , 0.        , 0.        , 0.        ,\n",
       "        0.        , 0.        , 0.        , 0.        , 0.        ,\n",
       "        0.        , 0.        , 0.        , 0.        , 0.        ,\n",
       "        0.        , 0.        , 0.        , 0.        , 0.        ,\n",
       "        0.        , 0.        , 0.        , 0.        , 0.        ,\n",
       "        0.        , 0.        , 0.        ],\n",
       "       [0.        , 0.        , 0.        , 0.        , 0.        ,\n",
       "        0.        , 0.        , 0.        , 0.        , 0.        ,\n",
       "        0.        , 0.        , 0.        , 0.        , 0.        ,\n",
       "        0.        , 0.        , 0.        , 0.        , 0.        ,\n",
       "        0.        , 0.        , 0.        , 0.        , 0.        ,\n",
       "        0.        , 0.        , 0.        ],\n",
       "       [0.        , 0.        , 0.        , 0.        , 0.        ,\n",
       "        0.        , 0.        , 0.        , 0.        , 0.        ,\n",
       "        0.        , 0.        , 0.        , 0.        , 0.        ,\n",
       "        0.        , 0.        , 0.        , 0.        , 0.        ,\n",
       "        0.        , 0.        , 0.        , 0.        , 0.        ,\n",
       "        0.        , 0.        , 0.        ],\n",
       "       [0.        , 0.        , 0.        , 0.        , 0.        ,\n",
       "        0.        , 0.        , 0.        , 0.        , 0.        ,\n",
       "        0.        , 0.        , 0.        , 0.        , 0.        ,\n",
       "        0.        , 0.        , 0.        , 0.        , 0.        ,\n",
       "        0.        , 0.        , 0.        , 0.        , 0.        ,\n",
       "        0.        , 0.        , 0.        ],\n",
       "       [0.        , 0.        , 0.        , 0.        , 0.        ,\n",
       "        0.        , 0.        , 0.        , 0.        , 0.        ,\n",
       "        0.        , 0.        , 0.01176471, 0.07058824, 0.07058824,\n",
       "        0.07058824, 0.49411765, 0.53333333, 0.68627451, 0.10196078,\n",
       "        0.65098039, 1.        , 0.96862745, 0.49803922, 0.        ,\n",
       "        0.        , 0.        , 0.        ],\n",
       "       [0.        , 0.        , 0.        , 0.        , 0.        ,\n",
       "        0.        , 0.        , 0.        , 0.11764706, 0.14117647,\n",
       "        0.36862745, 0.60392157, 0.66666667, 0.99215686, 0.99215686,\n",
       "        0.99215686, 0.99215686, 0.99215686, 0.88235294, 0.6745098 ,\n",
       "        0.99215686, 0.94901961, 0.76470588, 0.25098039, 0.        ,\n",
       "        0.        , 0.        , 0.        ],\n",
       "       [0.        , 0.        , 0.        , 0.        , 0.        ,\n",
       "        0.        , 0.        , 0.19215686, 0.93333333, 0.99215686,\n",
       "        0.99215686, 0.99215686, 0.99215686, 0.99215686, 0.99215686,\n",
       "        0.99215686, 0.99215686, 0.98431373, 0.36470588, 0.32156863,\n",
       "        0.32156863, 0.21960784, 0.15294118, 0.        , 0.        ,\n",
       "        0.        , 0.        , 0.        ],\n",
       "       [0.        , 0.        , 0.        , 0.        , 0.        ,\n",
       "        0.        , 0.        , 0.07058824, 0.85882353, 0.99215686,\n",
       "        0.99215686, 0.99215686, 0.99215686, 0.99215686, 0.77647059,\n",
       "        0.71372549, 0.96862745, 0.94509804, 0.        , 0.        ,\n",
       "        0.        , 0.        , 0.        , 0.        , 0.        ,\n",
       "        0.        , 0.        , 0.        ],\n",
       "       [0.        , 0.        , 0.        , 0.        , 0.        ,\n",
       "        0.        , 0.        , 0.        , 0.31372549, 0.61176471,\n",
       "        0.41960784, 0.99215686, 0.99215686, 0.80392157, 0.04313725,\n",
       "        0.        , 0.16862745, 0.60392157, 0.        , 0.        ,\n",
       "        0.        , 0.        , 0.        , 0.        , 0.        ,\n",
       "        0.        , 0.        , 0.        ],\n",
       "       [0.        , 0.        , 0.        , 0.        , 0.        ,\n",
       "        0.        , 0.        , 0.        , 0.        , 0.05490196,\n",
       "        0.00392157, 0.60392157, 0.99215686, 0.35294118, 0.        ,\n",
       "        0.        , 0.        , 0.        , 0.        , 0.        ,\n",
       "        0.        , 0.        , 0.        , 0.        , 0.        ,\n",
       "        0.        , 0.        , 0.        ],\n",
       "       [0.        , 0.        , 0.        , 0.        , 0.        ,\n",
       "        0.        , 0.        , 0.        , 0.        , 0.        ,\n",
       "        0.        , 0.54509804, 0.99215686, 0.74509804, 0.00784314,\n",
       "        0.        , 0.        , 0.        , 0.        , 0.        ,\n",
       "        0.        , 0.        , 0.        , 0.        , 0.        ,\n",
       "        0.        , 0.        , 0.        ],\n",
       "       [0.        , 0.        , 0.        , 0.        , 0.        ,\n",
       "        0.        , 0.        , 0.        , 0.        , 0.        ,\n",
       "        0.        , 0.04313725, 0.74509804, 0.99215686, 0.2745098 ,\n",
       "        0.        , 0.        , 0.        , 0.        , 0.        ,\n",
       "        0.        , 0.        , 0.        , 0.        , 0.        ,\n",
       "        0.        , 0.        , 0.        ],\n",
       "       [0.        , 0.        , 0.        , 0.        , 0.        ,\n",
       "        0.        , 0.        , 0.        , 0.        , 0.        ,\n",
       "        0.        , 0.        , 0.1372549 , 0.94509804, 0.88235294,\n",
       "        0.62745098, 0.42352941, 0.00392157, 0.        , 0.        ,\n",
       "        0.        , 0.        , 0.        , 0.        , 0.        ,\n",
       "        0.        , 0.        , 0.        ],\n",
       "       [0.        , 0.        , 0.        , 0.        , 0.        ,\n",
       "        0.        , 0.        , 0.        , 0.        , 0.        ,\n",
       "        0.        , 0.        , 0.        , 0.31764706, 0.94117647,\n",
       "        0.99215686, 0.99215686, 0.46666667, 0.09803922, 0.        ,\n",
       "        0.        , 0.        , 0.        , 0.        , 0.        ,\n",
       "        0.        , 0.        , 0.        ],\n",
       "       [0.        , 0.        , 0.        , 0.        , 0.        ,\n",
       "        0.        , 0.        , 0.        , 0.        , 0.        ,\n",
       "        0.        , 0.        , 0.        , 0.        , 0.17647059,\n",
       "        0.72941176, 0.99215686, 0.99215686, 0.58823529, 0.10588235,\n",
       "        0.        , 0.        , 0.        , 0.        , 0.        ,\n",
       "        0.        , 0.        , 0.        ],\n",
       "       [0.        , 0.        , 0.        , 0.        , 0.        ,\n",
       "        0.        , 0.        , 0.        , 0.        , 0.        ,\n",
       "        0.        , 0.        , 0.        , 0.        , 0.        ,\n",
       "        0.0627451 , 0.36470588, 0.98823529, 0.99215686, 0.73333333,\n",
       "        0.        , 0.        , 0.        , 0.        , 0.        ,\n",
       "        0.        , 0.        , 0.        ],\n",
       "       [0.        , 0.        , 0.        , 0.        , 0.        ,\n",
       "        0.        , 0.        , 0.        , 0.        , 0.        ,\n",
       "        0.        , 0.        , 0.        , 0.        , 0.        ,\n",
       "        0.        , 0.        , 0.97647059, 0.99215686, 0.97647059,\n",
       "        0.25098039, 0.        , 0.        , 0.        , 0.        ,\n",
       "        0.        , 0.        , 0.        ],\n",
       "       [0.        , 0.        , 0.        , 0.        , 0.        ,\n",
       "        0.        , 0.        , 0.        , 0.        , 0.        ,\n",
       "        0.        , 0.        , 0.        , 0.        , 0.18039216,\n",
       "        0.50980392, 0.71764706, 0.99215686, 0.99215686, 0.81176471,\n",
       "        0.00784314, 0.        , 0.        , 0.        , 0.        ,\n",
       "        0.        , 0.        , 0.        ],\n",
       "       [0.        , 0.        , 0.        , 0.        , 0.        ,\n",
       "        0.        , 0.        , 0.        , 0.        , 0.        ,\n",
       "        0.        , 0.        , 0.15294118, 0.58039216, 0.89803922,\n",
       "        0.99215686, 0.99215686, 0.99215686, 0.98039216, 0.71372549,\n",
       "        0.        , 0.        , 0.        , 0.        , 0.        ,\n",
       "        0.        , 0.        , 0.        ],\n",
       "       [0.        , 0.        , 0.        , 0.        , 0.        ,\n",
       "        0.        , 0.        , 0.        , 0.        , 0.        ,\n",
       "        0.09411765, 0.44705882, 0.86666667, 0.99215686, 0.99215686,\n",
       "        0.99215686, 0.99215686, 0.78823529, 0.30588235, 0.        ,\n",
       "        0.        , 0.        , 0.        , 0.        , 0.        ,\n",
       "        0.        , 0.        , 0.        ],\n",
       "       [0.        , 0.        , 0.        , 0.        , 0.        ,\n",
       "        0.        , 0.        , 0.        , 0.09019608, 0.25882353,\n",
       "        0.83529412, 0.99215686, 0.99215686, 0.99215686, 0.99215686,\n",
       "        0.77647059, 0.31764706, 0.00784314, 0.        , 0.        ,\n",
       "        0.        , 0.        , 0.        , 0.        , 0.        ,\n",
       "        0.        , 0.        , 0.        ],\n",
       "       [0.        , 0.        , 0.        , 0.        , 0.        ,\n",
       "        0.        , 0.07058824, 0.67058824, 0.85882353, 0.99215686,\n",
       "        0.99215686, 0.99215686, 0.99215686, 0.76470588, 0.31372549,\n",
       "        0.03529412, 0.        , 0.        , 0.        , 0.        ,\n",
       "        0.        , 0.        , 0.        , 0.        , 0.        ,\n",
       "        0.        , 0.        , 0.        ],\n",
       "       [0.        , 0.        , 0.        , 0.        , 0.21568627,\n",
       "        0.6745098 , 0.88627451, 0.99215686, 0.99215686, 0.99215686,\n",
       "        0.99215686, 0.95686275, 0.52156863, 0.04313725, 0.        ,\n",
       "        0.        , 0.        , 0.        , 0.        , 0.        ,\n",
       "        0.        , 0.        , 0.        , 0.        , 0.        ,\n",
       "        0.        , 0.        , 0.        ],\n",
       "       [0.        , 0.        , 0.        , 0.        , 0.53333333,\n",
       "        0.99215686, 0.99215686, 0.99215686, 0.83137255, 0.52941176,\n",
       "        0.51764706, 0.0627451 , 0.        , 0.        , 0.        ,\n",
       "        0.        , 0.        , 0.        , 0.        , 0.        ,\n",
       "        0.        , 0.        , 0.        , 0.        , 0.        ,\n",
       "        0.        , 0.        , 0.        ],\n",
       "       [0.        , 0.        , 0.        , 0.        , 0.        ,\n",
       "        0.        , 0.        , 0.        , 0.        , 0.        ,\n",
       "        0.        , 0.        , 0.        , 0.        , 0.        ,\n",
       "        0.        , 0.        , 0.        , 0.        , 0.        ,\n",
       "        0.        , 0.        , 0.        , 0.        , 0.        ,\n",
       "        0.        , 0.        , 0.        ],\n",
       "       [0.        , 0.        , 0.        , 0.        , 0.        ,\n",
       "        0.        , 0.        , 0.        , 0.        , 0.        ,\n",
       "        0.        , 0.        , 0.        , 0.        , 0.        ,\n",
       "        0.        , 0.        , 0.        , 0.        , 0.        ,\n",
       "        0.        , 0.        , 0.        , 0.        , 0.        ,\n",
       "        0.        , 0.        , 0.        ],\n",
       "       [0.        , 0.        , 0.        , 0.        , 0.        ,\n",
       "        0.        , 0.        , 0.        , 0.        , 0.        ,\n",
       "        0.        , 0.        , 0.        , 0.        , 0.        ,\n",
       "        0.        , 0.        , 0.        , 0.        , 0.        ,\n",
       "        0.        , 0.        , 0.        , 0.        , 0.        ,\n",
       "        0.        , 0.        , 0.        ]])"
      ]
     },
     "execution_count": 20,
     "metadata": {},
     "output_type": "execute_result"
    }
   ],
   "source": [
    "X_valid[0]"
   ]
  },
  {
   "cell_type": "code",
   "execution_count": 30,
   "id": "049e1491",
   "metadata": {},
   "outputs": [],
   "source": [
    "np.random.seed(42)\n",
    "tf.random.set_seed(42)"
   ]
  },
  {
   "cell_type": "code",
   "execution_count": 32,
   "id": "47f682e7",
   "metadata": {},
   "outputs": [
    {
     "name": "stdout",
     "output_type": "stream",
     "text": [
      "Model: \"sequential_1\"\n",
      "_________________________________________________________________\n",
      "Layer (type)                 Output Shape              Param #   \n",
      "=================================================================\n",
      "flatten (Flatten)            (None, 784)               0         \n",
      "_________________________________________________________________\n",
      "dense (Dense)                (None, 200)               157000    \n",
      "_________________________________________________________________\n",
      "dense_1 (Dense)              (None, 100)               20100     \n",
      "_________________________________________________________________\n",
      "dense_2 (Dense)              (None, 10)                1010      \n",
      "=================================================================\n",
      "Total params: 178,110\n",
      "Trainable params: 178,110\n",
      "Non-trainable params: 0\n",
      "_________________________________________________________________\n"
     ]
    }
   ],
   "source": [
    "#create an ann model with two dense layers of neurons\n",
    "digit=keras.models.Sequential()\n",
    "digit.add(keras.layers.Flatten(input_shape=[28,28]))\n",
    "digit.add(keras.layers.Dense(200,activation=\"relu\"))\n",
    "digit.add(keras.layers.Dense(100,activation=\"relu\"))\n",
    "digit.add(keras.layers.Dense(10,activation=\"softmax\"))\n",
    "digit.summary()"
   ]
  },
  {
   "cell_type": "code",
   "execution_count": 35,
   "id": "2c5c864b",
   "metadata": {},
   "outputs": [
    {
     "data": {
      "image/png": "[encoded data removed]",
      "text/plain": [
       "<IPython.core.display.Image object>"
      ]
     },
     "execution_count": 35,
     "metadata": {},
     "output_type": "execute_result"
    }
   ],
   "source": [
    "from tensorflow.keras.utils import plot_model\n",
    "plot_model(digit)"
   ]
  },
  {
   "cell_type": "code",
   "execution_count": 40,
   "id": "21e44cf2",
   "metadata": {},
   "outputs": [
    {
     "data": {
      "text/plain": [
       "array([[ 0.02570029, -0.00921319, -0.02297589, ...,  0.03759523,\n",
       "         0.01990343, -0.00419658],\n",
       "       [ 0.0493257 ,  0.07532704,  0.04591972, ...,  0.01272719,\n",
       "         0.07017377,  0.06893378],\n",
       "       [-0.00902112,  0.0490617 ,  0.01508749, ...,  0.00632862,\n",
       "        -0.02900814, -0.04371899],\n",
       "       ...,\n",
       "       [ 0.06044598,  0.02830634,  0.04788385, ..., -0.02156743,\n",
       "        -0.06206664, -0.06688078],\n",
       "       [ 0.03822813,  0.07278952,  0.02177001, ..., -0.04696669,\n",
       "        -0.04292265,  0.0316055 ],\n",
       "       [-0.01534326, -0.03178874, -0.04308994, ...,  0.00643031,\n",
       "         0.02572545, -0.03443564]], dtype=float32)"
      ]
     },
     "execution_count": 40,
     "metadata": {},
     "output_type": "execute_result"
    }
   ],
   "source": [
    "weights,biases=digit.layers[1].get_weights()\n",
    "weights\n"
   ]
  },
  {
   "cell_type": "code",
   "execution_count": 38,
   "id": "daa8677f",
   "metadata": {},
   "outputs": [
    {
     "data": {
      "text/plain": [
       "(784, 200)"
      ]
     },
     "execution_count": 38,
     "metadata": {},
     "output_type": "execute_result"
    }
   ],
   "source": [
    "weights.shape\n"
   ]
  },
  {
   "cell_type": "code",
   "execution_count": 39,
   "id": "fd763d20",
   "metadata": {},
   "outputs": [
    {
     "data": {
      "text/plain": [
       "array([0., 0., 0., 0., 0., 0., 0., 0., 0., 0., 0., 0., 0., 0., 0., 0., 0.,\n",
       "       0., 0., 0., 0., 0., 0., 0., 0., 0., 0., 0., 0., 0., 0., 0., 0., 0.,\n",
       "       0., 0., 0., 0., 0., 0., 0., 0., 0., 0., 0., 0., 0., 0., 0., 0., 0.,\n",
       "       0., 0., 0., 0., 0., 0., 0., 0., 0., 0., 0., 0., 0., 0., 0., 0., 0.,\n",
       "       0., 0., 0., 0., 0., 0., 0., 0., 0., 0., 0., 0., 0., 0., 0., 0., 0.,\n",
       "       0., 0., 0., 0., 0., 0., 0., 0., 0., 0., 0., 0., 0., 0., 0., 0., 0.,\n",
       "       0., 0., 0., 0., 0., 0., 0., 0., 0., 0., 0., 0., 0., 0., 0., 0., 0.,\n",
       "       0., 0., 0., 0., 0., 0., 0., 0., 0., 0., 0., 0., 0., 0., 0., 0., 0.,\n",
       "       0., 0., 0., 0., 0., 0., 0., 0., 0., 0., 0., 0., 0., 0., 0., 0., 0.,\n",
       "       0., 0., 0., 0., 0., 0., 0., 0., 0., 0., 0., 0., 0., 0., 0., 0., 0.,\n",
       "       0., 0., 0., 0., 0., 0., 0., 0., 0., 0., 0., 0., 0., 0., 0., 0., 0.,\n",
       "       0., 0., 0., 0., 0., 0., 0., 0., 0., 0., 0., 0., 0.], dtype=float32)"
      ]
     },
     "execution_count": 39,
     "metadata": {},
     "output_type": "execute_result"
    }
   ],
   "source": [
    "biases"
   ]
  },
  {
   "cell_type": "code",
   "execution_count": 47,
   "id": "27786c7f",
   "metadata": {},
   "outputs": [
    {
     "name": "stdout",
     "output_type": "stream",
     "text": [
      "Epoch 1/60\n",
      "1688/1688 [==============================] - 4s 2ms/step - loss: 0.0077 - accuracy: 0.9994 - val_loss: 0.0792 - val_accuracy: 0.9777\n",
      "Epoch 2/60\n",
      "1688/1688 [==============================] - 4s 2ms/step - loss: 0.0074 - accuracy: 0.9995 - val_loss: 0.0818 - val_accuracy: 0.9775\n",
      "Epoch 3/60\n",
      "1688/1688 [==============================] - 4s 2ms/step - loss: 0.0072 - accuracy: 0.9996 - val_loss: 0.0793 - val_accuracy: 0.9777\n",
      "Epoch 4/60\n",
      "1688/1688 [==============================] - 4s 2ms/step - loss: 0.0069 - accuracy: 0.9996 - val_loss: 0.0810 - val_accuracy: 0.9783\n",
      "Epoch 5/60\n",
      "1688/1688 [==============================] - 4s 2ms/step - loss: 0.0066 - accuracy: 0.9997 - val_loss: 0.0828 - val_accuracy: 0.9777\n",
      "Epoch 6/60\n",
      "1688/1688 [==============================] - 4s 2ms/step - loss: 0.0064 - accuracy: 0.9997 - val_loss: 0.0801 - val_accuracy: 0.9797\n",
      "Epoch 7/60\n",
      "1688/1688 [==============================] - 4s 2ms/step - loss: 0.0062 - accuracy: 0.9997 - val_loss: 0.0814 - val_accuracy: 0.9772\n",
      "Epoch 8/60\n",
      "1688/1688 [==============================] - 4s 2ms/step - loss: 0.0060 - accuracy: 0.9997 - val_loss: 0.0808 - val_accuracy: 0.9782\n",
      "Epoch 9/60\n",
      "1688/1688 [==============================] - 4s 2ms/step - loss: 0.0057 - accuracy: 0.9998 - val_loss: 0.0817 - val_accuracy: 0.9787\n",
      "Epoch 10/60\n",
      "1688/1688 [==============================] - 4s 2ms/step - loss: 0.0055 - accuracy: 0.9997 - val_loss: 0.0821 - val_accuracy: 0.9778\n",
      "Epoch 11/60\n",
      "1688/1688 [==============================] - 4s 2ms/step - loss: 0.0053 - accuracy: 0.9998 - val_loss: 0.0836 - val_accuracy: 0.9778\n",
      "Epoch 12/60\n",
      "1688/1688 [==============================] - 4s 2ms/step - loss: 0.0051 - accuracy: 0.9998 - val_loss: 0.0841 - val_accuracy: 0.9778\n",
      "Epoch 13/60\n",
      "1688/1688 [==============================] - 4s 2ms/step - loss: 0.0050 - accuracy: 0.9998 - val_loss: 0.0818 - val_accuracy: 0.9777\n",
      "Epoch 14/60\n",
      "1688/1688 [==============================] - 4s 2ms/step - loss: 0.0048 - accuracy: 0.9998 - val_loss: 0.0821 - val_accuracy: 0.9782\n",
      "Epoch 15/60\n",
      "1688/1688 [==============================] - 4s 2ms/step - loss: 0.0047 - accuracy: 0.9998 - val_loss: 0.0830 - val_accuracy: 0.9782\n",
      "Epoch 16/60\n",
      "1688/1688 [==============================] - 4s 2ms/step - loss: 0.0045 - accuracy: 0.9999 - val_loss: 0.0827 - val_accuracy: 0.9785\n",
      "Epoch 17/60\n",
      "1688/1688 [==============================] - 4s 2ms/step - loss: 0.0044 - accuracy: 0.9999 - val_loss: 0.0843 - val_accuracy: 0.9772\n",
      "Epoch 18/60\n",
      "1688/1688 [==============================] - 4s 2ms/step - loss: 0.0043 - accuracy: 0.9999 - val_loss: 0.0842 - val_accuracy: 0.9780\n",
      "Epoch 19/60\n",
      "1688/1688 [==============================] - 4s 2ms/step - loss: 0.0041 - accuracy: 0.9999 - val_loss: 0.0840 - val_accuracy: 0.9782\n",
      "Epoch 20/60\n",
      "1688/1688 [==============================] - 4s 2ms/step - loss: 0.0040 - accuracy: 0.9999 - val_loss: 0.0850 - val_accuracy: 0.9772\n",
      "Epoch 21/60\n",
      "1688/1688 [==============================] - 4s 2ms/step - loss: 0.0039 - accuracy: 0.9999 - val_loss: 0.0853 - val_accuracy: 0.9778\n",
      "Epoch 22/60\n",
      "1688/1688 [==============================] - 4s 2ms/step - loss: 0.0038 - accuracy: 0.9999 - val_loss: 0.0859 - val_accuracy: 0.9772\n",
      "Epoch 23/60\n",
      "1688/1688 [==============================] - 4s 2ms/step - loss: 0.0037 - accuracy: 0.9999 - val_loss: 0.0859 - val_accuracy: 0.9773\n",
      "Epoch 24/60\n",
      "1688/1688 [==============================] - 4s 3ms/step - loss: 0.0036 - accuracy: 0.9999 - val_loss: 0.0856 - val_accuracy: 0.9777\n",
      "Epoch 25/60\n",
      "1688/1688 [==============================] - 4s 2ms/step - loss: 0.0034 - accuracy: 1.0000 - val_loss: 0.0870 - val_accuracy: 0.9777\n",
      "Epoch 26/60\n",
      "1688/1688 [==============================] - 4s 2ms/step - loss: 0.0034 - accuracy: 0.9999 - val_loss: 0.0865 - val_accuracy: 0.9773\n",
      "Epoch 27/60\n",
      "1688/1688 [==============================] - 4s 2ms/step - loss: 0.0033 - accuracy: 1.0000 - val_loss: 0.0858 - val_accuracy: 0.9783\n",
      "Epoch 28/60\n",
      "1688/1688 [==============================] - 4s 2ms/step - loss: 0.0032 - accuracy: 1.0000 - val_loss: 0.0853 - val_accuracy: 0.9777\n",
      "Epoch 29/60\n",
      "1688/1688 [==============================] - 4s 2ms/step - loss: 0.0031 - accuracy: 1.0000 - val_loss: 0.0860 - val_accuracy: 0.9778\n",
      "Epoch 30/60\n",
      "1688/1688 [==============================] - 4s 2ms/step - loss: 0.0031 - accuracy: 1.0000 - val_loss: 0.0877 - val_accuracy: 0.9773\n",
      "Epoch 31/60\n",
      "1688/1688 [==============================] - 4s 2ms/step - loss: 0.0030 - accuracy: 1.0000 - val_loss: 0.0857 - val_accuracy: 0.9782\n",
      "Epoch 32/60\n",
      "1688/1688 [==============================] - 4s 3ms/step - loss: 0.0029 - accuracy: 1.0000 - val_loss: 0.0869 - val_accuracy: 0.9788\n",
      "Epoch 33/60\n",
      "1688/1688 [==============================] - 4s 2ms/step - loss: 0.0028 - accuracy: 1.0000 - val_loss: 0.0871 - val_accuracy: 0.9778\n",
      "Epoch 34/60\n",
      "1688/1688 [==============================] - 4s 2ms/step - loss: 0.0028 - accuracy: 1.0000 - val_loss: 0.0873 - val_accuracy: 0.9778\n",
      "Epoch 35/60\n",
      "1688/1688 [==============================] - 4s 2ms/step - loss: 0.0027 - accuracy: 1.0000 - val_loss: 0.0869 - val_accuracy: 0.9783\n",
      "Epoch 36/60\n",
      "1688/1688 [==============================] - 4s 2ms/step - loss: 0.0026 - accuracy: 1.0000 - val_loss: 0.0890 - val_accuracy: 0.9770\n",
      "Epoch 37/60\n",
      "1688/1688 [==============================] - 4s 3ms/step - loss: 0.0026 - accuracy: 1.0000 - val_loss: 0.0884 - val_accuracy: 0.9782\n",
      "Epoch 38/60\n",
      "1688/1688 [==============================] - 4s 2ms/step - loss: 0.0025 - accuracy: 1.0000 - val_loss: 0.0893 - val_accuracy: 0.9775\n",
      "Epoch 39/60\n",
      "1688/1688 [==============================] - 4s 2ms/step - loss: 0.0025 - accuracy: 1.0000 - val_loss: 0.0885 - val_accuracy: 0.9778\n",
      "Epoch 40/60\n",
      "1688/1688 [==============================] - 4s 2ms/step - loss: 0.0024 - accuracy: 1.0000 - val_loss: 0.0891 - val_accuracy: 0.9777\n",
      "Epoch 41/60\n",
      "1688/1688 [==============================] - 4s 2ms/step - loss: 0.0024 - accuracy: 1.0000 - val_loss: 0.0886 - val_accuracy: 0.9775\n",
      "Epoch 42/60\n",
      "1688/1688 [==============================] - 4s 2ms/step - loss: 0.0023 - accuracy: 1.0000 - val_loss: 0.0894 - val_accuracy: 0.9778\n",
      "Epoch 43/60\n",
      "1688/1688 [==============================] - 4s 2ms/step - loss: 0.0023 - accuracy: 1.0000 - val_loss: 0.0902 - val_accuracy: 0.9775\n",
      "Epoch 44/60\n",
      "1688/1688 [==============================] - 4s 2ms/step - loss: 0.0022 - accuracy: 1.0000 - val_loss: 0.0897 - val_accuracy: 0.9778\n",
      "Epoch 45/60\n",
      "1688/1688 [==============================] - 4s 2ms/step - loss: 0.0022 - accuracy: 1.0000 - val_loss: 0.0891 - val_accuracy: 0.9780\n",
      "Epoch 46/60\n",
      "1688/1688 [==============================] - 4s 2ms/step - loss: 0.0022 - accuracy: 1.0000 - val_loss: 0.0896 - val_accuracy: 0.9778\n",
      "Epoch 47/60\n",
      "1688/1688 [==============================] - 4s 3ms/step - loss: 0.0021 - accuracy: 1.0000 - val_loss: 0.0898 - val_accuracy: 0.9778\n",
      "Epoch 48/60\n",
      "1688/1688 [==============================] - 4s 2ms/step - loss: 0.0021 - accuracy: 1.0000 - val_loss: 0.0900 - val_accuracy: 0.9777\n",
      "Epoch 49/60\n",
      "1688/1688 [==============================] - 4s 2ms/step - loss: 0.0020 - accuracy: 1.0000 - val_loss: 0.0907 - val_accuracy: 0.9777\n",
      "Epoch 50/60\n",
      "1688/1688 [==============================] - 4s 2ms/step - loss: 0.0020 - accuracy: 1.0000 - val_loss: 0.0918 - val_accuracy: 0.9773\n",
      "Epoch 51/60\n",
      "1688/1688 [==============================] - 4s 2ms/step - loss: 0.0020 - accuracy: 1.0000 - val_loss: 0.0902 - val_accuracy: 0.9773\n",
      "Epoch 52/60\n",
      "1688/1688 [==============================] - 4s 2ms/step - loss: 0.0019 - accuracy: 1.0000 - val_loss: 0.0899 - val_accuracy: 0.9782\n",
      "Epoch 53/60\n",
      "1688/1688 [==============================] - 4s 2ms/step - loss: 0.0019 - accuracy: 1.0000 - val_loss: 0.0906 - val_accuracy: 0.9778\n",
      "Epoch 54/60\n",
      "1688/1688 [==============================] - 4s 2ms/step - loss: 0.0019 - accuracy: 1.0000 - val_loss: 0.0902 - val_accuracy: 0.9780\n",
      "Epoch 55/60\n",
      "1688/1688 [==============================] - 4s 3ms/step - loss: 0.0018 - accuracy: 1.0000 - val_loss: 0.0911 - val_accuracy: 0.9777\n",
      "Epoch 56/60\n",
      "1688/1688 [==============================] - 4s 3ms/step - loss: 0.0018 - accuracy: 1.0000 - val_loss: 0.0909 - val_accuracy: 0.9780\n",
      "Epoch 57/60\n"
     ]
    },
    {
     "name": "stdout",
     "output_type": "stream",
     "text": [
      "1688/1688 [==============================] - 3s 2ms/step - loss: 0.0018 - accuracy: 1.0000 - val_loss: 0.0919 - val_accuracy: 0.9777\n",
      "Epoch 58/60\n",
      "1688/1688 [==============================] - 4s 2ms/step - loss: 0.0017 - accuracy: 1.0000 - val_loss: 0.0908 - val_accuracy: 0.9780\n",
      "Epoch 59/60\n",
      "1688/1688 [==============================] - 4s 2ms/step - loss: 0.0017 - accuracy: 1.0000 - val_loss: 0.0923 - val_accuracy: 0.9773\n",
      "Epoch 60/60\n",
      "1688/1688 [==============================] - 4s 2ms/step - loss: 0.0017 - accuracy: 1.0000 - val_loss: 0.0925 - val_accuracy: 0.9780\n"
     ]
    }
   ],
   "source": [
    "#compiling andtraining the model\n",
    "digit.compile(loss=\"sparse_categorical_crossentropy\",optimizer=\"sgd\",metrics=[\"accuracy\"])\n",
    "digit_history=digit.fit(X_train,y_train,epochs=60,validation_data=(X_valid,y_valid))"
   ]
  },
  {
   "cell_type": "code",
   "execution_count": 48,
   "id": "f40d8f99",
   "metadata": {},
   "outputs": [
    {
     "data": {
      "text/plain": [
       "{'verbose': 1, 'epochs': 60, 'steps': 1688}"
      ]
     },
     "execution_count": 48,
     "metadata": {},
     "output_type": "execute_result"
    }
   ],
   "source": [
    "digit_history.params"
   ]
  },
  {
   "cell_type": "code",
   "execution_count": 49,
   "id": "9d3abd97",
   "metadata": {},
   "outputs": [
    {
     "data": {
      "text/plain": [
       "{'loss': [0.0077424803748726845,\n",
       "  0.007424980867654085,\n",
       "  0.007220801431685686,\n",
       "  0.006892298348248005,\n",
       "  0.00664051529020071,\n",
       "  0.006392093375325203,\n",
       "  0.006161103490740061,\n",
       "  0.005980895832180977,\n",
       "  0.0056968810968101025,\n",
       "  0.005541431717574596,\n",
       "  0.005331001710146666,\n",
       "  0.005139889195561409,\n",
       "  0.004994451534003019,\n",
       "  0.004840645473450422,\n",
       "  0.0046555595472455025,\n",
       "  0.004504730924963951,\n",
       "  0.004403341561555862,\n",
       "  0.004254386760294437,\n",
       "  0.004093533847481012,\n",
       "  0.004033053293824196,\n",
       "  0.0038803531788289547,\n",
       "  0.003772481344640255,\n",
       "  0.0036646556109189987,\n",
       "  0.003557623131200671,\n",
       "  0.0034499906469136477,\n",
       "  0.003365868702530861,\n",
       "  0.0032705862540751696,\n",
       "  0.003202371299266815,\n",
       "  0.003106101183220744,\n",
       "  0.0030606845393776894,\n",
       "  0.002955349627882242,\n",
       "  0.002887960057705641,\n",
       "  0.0028310874477028847,\n",
       "  0.0027726301923394203,\n",
       "  0.0026943145785480738,\n",
       "  0.0026323539204895496,\n",
       "  0.0025957697071135044,\n",
       "  0.0025252792984247208,\n",
       "  0.0024734591133892536,\n",
       "  0.0024282094091176987,\n",
       "  0.0023749424144625664,\n",
       "  0.0023350336123257875,\n",
       "  0.002274976344779134,\n",
       "  0.002230769721791148,\n",
       "  0.0021866720635443926,\n",
       "  0.002154609886929393,\n",
       "  0.0021021212451159954,\n",
       "  0.002063268795609474,\n",
       "  0.0020222612656652927,\n",
       "  0.0019913604483008385,\n",
       "  0.001959289889782667,\n",
       "  0.0019226575968787074,\n",
       "  0.0018838485702872276,\n",
       "  0.0018645492382347584,\n",
       "  0.001828374806791544,\n",
       "  0.0017880091909319162,\n",
       "  0.0017576110549271107,\n",
       "  0.0017399807693436742,\n",
       "  0.0017058460507541895,\n",
       "  0.00167810486163944],\n",
       " 'accuracy': [0.9993703961372375,\n",
       "  0.9994999766349792,\n",
       "  0.9995926022529602,\n",
       "  0.9996111392974854,\n",
       "  0.9996851682662964,\n",
       "  0.9996851682662964,\n",
       "  0.9997037053108215,\n",
       "  0.999740719795227,\n",
       "  0.9997592568397522,\n",
       "  0.999740719795227,\n",
       "  0.9998148083686829,\n",
       "  0.9998148083686829,\n",
       "  0.9997962713241577,\n",
       "  0.9997962713241577,\n",
       "  0.999833345413208,\n",
       "  0.9998888969421387,\n",
       "  0.9998518228530884,\n",
       "  0.9999074339866638,\n",
       "  0.9999074339866638,\n",
       "  0.9998888969421387,\n",
       "  0.9998888969421387,\n",
       "  0.9999444484710693,\n",
       "  0.9999259114265442,\n",
       "  0.9999259114265442,\n",
       "  0.9999814629554749,\n",
       "  0.9999074339866638,\n",
       "  0.9999814629554749,\n",
       "  0.9999814629554749,\n",
       "  0.9999814629554749,\n",
       "  0.9999629855155945,\n",
       "  0.9999629855155945,\n",
       "  0.9999814629554749,\n",
       "  1.0,\n",
       "  1.0,\n",
       "  1.0,\n",
       "  1.0,\n",
       "  1.0,\n",
       "  1.0,\n",
       "  1.0,\n",
       "  1.0,\n",
       "  1.0,\n",
       "  1.0,\n",
       "  1.0,\n",
       "  1.0,\n",
       "  1.0,\n",
       "  1.0,\n",
       "  1.0,\n",
       "  1.0,\n",
       "  1.0,\n",
       "  1.0,\n",
       "  1.0,\n",
       "  1.0,\n",
       "  1.0,\n",
       "  1.0,\n",
       "  1.0,\n",
       "  1.0,\n",
       "  1.0,\n",
       "  1.0,\n",
       "  1.0,\n",
       "  1.0],\n",
       " 'val_loss': [0.07919687777757645,\n",
       "  0.08177034556865692,\n",
       "  0.0792558565735817,\n",
       "  0.08102823793888092,\n",
       "  0.08276776969432831,\n",
       "  0.08006951957941055,\n",
       "  0.08142051845788956,\n",
       "  0.0808010995388031,\n",
       "  0.08166059851646423,\n",
       "  0.08210894465446472,\n",
       "  0.08358252793550491,\n",
       "  0.0841437578201294,\n",
       "  0.08183964341878891,\n",
       "  0.08207519352436066,\n",
       "  0.0830487608909607,\n",
       "  0.0826784074306488,\n",
       "  0.08433070033788681,\n",
       "  0.08421602100133896,\n",
       "  0.08397901058197021,\n",
       "  0.08495122939348221,\n",
       "  0.08533013612031937,\n",
       "  0.08590219914913177,\n",
       "  0.08591942489147186,\n",
       "  0.08557234704494476,\n",
       "  0.0870276615023613,\n",
       "  0.08648667484521866,\n",
       "  0.08582302927970886,\n",
       "  0.08531413972377777,\n",
       "  0.08601938188076019,\n",
       "  0.08771974593400955,\n",
       "  0.08565279096364975,\n",
       "  0.08685129880905151,\n",
       "  0.08714690804481506,\n",
       "  0.0872718095779419,\n",
       "  0.08690804988145828,\n",
       "  0.08902335911989212,\n",
       "  0.08840126544237137,\n",
       "  0.08925645798444748,\n",
       "  0.08846678584814072,\n",
       "  0.0890830010175705,\n",
       "  0.08856764435768127,\n",
       "  0.08944687247276306,\n",
       "  0.09022650122642517,\n",
       "  0.0897187814116478,\n",
       "  0.08906093239784241,\n",
       "  0.08962742239236832,\n",
       "  0.08975957334041595,\n",
       "  0.08996063470840454,\n",
       "  0.09067399054765701,\n",
       "  0.0917690247297287,\n",
       "  0.0902039110660553,\n",
       "  0.08989448845386505,\n",
       "  0.09059052169322968,\n",
       "  0.09023811668157578,\n",
       "  0.09105924516916275,\n",
       "  0.09092175960540771,\n",
       "  0.09191785752773285,\n",
       "  0.09078728407621384,\n",
       "  0.09227506816387177,\n",
       "  0.09248536825180054],\n",
       " 'val_accuracy': [0.9776666760444641,\n",
       "  0.9775000214576721,\n",
       "  0.9776666760444641,\n",
       "  0.9783333539962769,\n",
       "  0.9776666760444641,\n",
       "  0.9796666502952576,\n",
       "  0.9771666526794434,\n",
       "  0.9781666398048401,\n",
       "  0.9786666631698608,\n",
       "  0.9778333306312561,\n",
       "  0.9778333306312561,\n",
       "  0.9778333306312561,\n",
       "  0.9776666760444641,\n",
       "  0.9781666398048401,\n",
       "  0.9781666398048401,\n",
       "  0.9785000085830688,\n",
       "  0.9771666526794434,\n",
       "  0.9779999852180481,\n",
       "  0.9781666398048401,\n",
       "  0.9771666526794434,\n",
       "  0.9778333306312561,\n",
       "  0.9771666526794434,\n",
       "  0.9773333072662354,\n",
       "  0.9776666760444641,\n",
       "  0.9776666760444641,\n",
       "  0.9773333072662354,\n",
       "  0.9783333539962769,\n",
       "  0.9776666760444641,\n",
       "  0.9778333306312561,\n",
       "  0.9773333072662354,\n",
       "  0.9781666398048401,\n",
       "  0.9788333177566528,\n",
       "  0.9778333306312561,\n",
       "  0.9778333306312561,\n",
       "  0.9783333539962769,\n",
       "  0.9769999980926514,\n",
       "  0.9781666398048401,\n",
       "  0.9775000214576721,\n",
       "  0.9778333306312561,\n",
       "  0.9776666760444641,\n",
       "  0.9775000214576721,\n",
       "  0.9778333306312561,\n",
       "  0.9775000214576721,\n",
       "  0.9778333306312561,\n",
       "  0.9779999852180481,\n",
       "  0.9778333306312561,\n",
       "  0.9778333306312561,\n",
       "  0.9776666760444641,\n",
       "  0.9776666760444641,\n",
       "  0.9773333072662354,\n",
       "  0.9773333072662354,\n",
       "  0.9781666398048401,\n",
       "  0.9778333306312561,\n",
       "  0.9779999852180481,\n",
       "  0.9776666760444641,\n",
       "  0.9779999852180481,\n",
       "  0.9776666760444641,\n",
       "  0.9779999852180481,\n",
       "  0.9773333072662354,\n",
       "  0.9779999852180481]}"
      ]
     },
     "execution_count": 49,
     "metadata": {},
     "output_type": "execute_result"
    }
   ],
   "source": [
    "digit_history.history"
   ]
  },
  {
   "cell_type": "code",
   "execution_count": 54,
   "id": "0eae3a46",
   "metadata": {},
   "outputs": [
    {
     "data": {
      "image/png": "[encoded data removed]",
      "text/plain": [
       "<Figure size 576x360 with 1 Axes>"
      ]
     },
     "metadata": {
      "needs_background": "light"
     },
     "output_type": "display_data"
    }
   ],
   "source": [
    "pd.DataFrame(digit_history.history).plot(figsize=(8,5))\n",
    "plt.grid(True)\n",
    "plt.gca().set_ylim(0,1)\n",
    "plt.show()\n"
   ]
  },
  {
   "cell_type": "code",
   "execution_count": 64,
   "id": "0abfdfc8",
   "metadata": {},
   "outputs": [
    {
     "name": "stdout",
     "output_type": "stream",
     "text": [
      "313/313 [==============================] - 0s 1ms/step - loss: 0.0838 - accuracy: 0.9805\n"
     ]
    }
   ],
   "source": [
    "#evaluate the performance &predict using keras\n",
    "digit.evaluate(X_test,y_test)\n",
    "X_new=X_test[:5]\n"
   ]
  },
  {
   "cell_type": "code",
   "execution_count": 65,
   "id": "f6b94089",
   "metadata": {},
   "outputs": [
    {
     "data": {
      "text/plain": [
       "array([[0., 0., 0., 0., 0., 0., 0., 1., 0., 0.],\n",
       "       [0., 0., 1., 0., 0., 0., 0., 0., 0., 0.],\n",
       "       [0., 1., 0., 0., 0., 0., 0., 0., 0., 0.],\n",
       "       [1., 0., 0., 0., 0., 0., 0., 0., 0., 0.],\n",
       "       [0., 0., 0., 0., 1., 0., 0., 0., 0., 0.]], dtype=float32)"
      ]
     },
     "execution_count": 65,
     "metadata": {},
     "output_type": "execute_result"
    }
   ],
   "source": [
    "y_proba=digit.predict(X_new)\n",
    "y_proba.round(2)"
   ]
  },
  {
   "cell_type": "code",
   "execution_count": 66,
   "id": "5ad663c7",
   "metadata": {},
   "outputs": [
    {
     "data": {
      "text/plain": [
       "array([7, 2, 1, 0, 4], dtype=int64)"
      ]
     },
     "execution_count": 66,
     "metadata": {},
     "output_type": "execute_result"
    }
   ],
   "source": [
    "y_pred=np.argmax(digit.predict(X_new), axis=-1)\n",
    "y_pred"
   ]
  },
  {
   "cell_type": "code",
   "execution_count": 67,
   "id": "e17aa40b",
   "metadata": {},
   "outputs": [
    {
     "name": "stdout",
     "output_type": "stream",
     "text": [
      "AxesImage(54,36;334.8x217.44)\n"
     ]
    },
    {
     "data": {
      "image/png": "[encoded data removed]",
      "text/plain": [
       "<Figure size 432x288 with 1 Axes>"
      ]
     },
     "metadata": {
      "needs_background": "light"
     },
     "output_type": "display_data"
    }
   ],
   "source": [
    "print(plt.imshow(X_test[0]))"
   ]
  },
  {
   "cell_type": "code",
   "execution_count": 68,
   "id": "8a079aca",
   "metadata": {},
   "outputs": [
    {
     "name": "stdout",
     "output_type": "stream",
     "text": [
      "AxesImage(54,36;334.8x217.44)\n"
     ]
    },
    {
     "data": {
      "image/png": "[encoded data removed]",
      "text/plain": [
       "<Figure size 432x288 with 1 Axes>"
      ]
     },
     "metadata": {
      "needs_background": "light"
     },
     "output_type": "display_data"
    }
   ],
   "source": [
    "print(plt.imshow(X_test[1]))"
   ]
  },
  {
   "cell_type": "code",
   "execution_count": 69,
   "id": "3ef071ff",
   "metadata": {},
   "outputs": [
    {
     "name": "stdout",
     "output_type": "stream",
     "text": [
      "AxesImage(54,36;334.8x217.44)\n"
     ]
    },
    {
     "data": {
      "image/png": "[encoded data removed]",
      "text/plain": [
       "<Figure size 432x288 with 1 Axes>"
      ]
     },
     "metadata": {
      "needs_background": "light"
     },
     "output_type": "display_data"
    }
   ],
   "source": [
    "print(plt.imshow(X_test[2]))"
   ]
  },
  {
   "cell_type": "code",
   "execution_count": 71,
   "id": "dbccdc27",
   "metadata": {},
   "outputs": [
    {
     "name": "stdout",
     "output_type": "stream",
     "text": [
      "AxesImage(54,36;334.8x217.44)\n"
     ]
    },
    {
     "data": {
      "image/png": "[encoded data removed]",
      "text/plain": [
       "<Figure size 432x288 with 1 Axes>"
      ]
     },
     "metadata": {
      "needs_background": "light"
     },
     "output_type": "display_data"
    }
   ],
   "source": [
    "print(plt.imshow(X_test[3]))"
   ]
  },
  {
   "cell_type": "code",
   "execution_count": 72,
   "id": "95f3376b",
   "metadata": {},
   "outputs": [
    {
     "name": "stdout",
     "output_type": "stream",
     "text": [
      "AxesImage(54,36;334.8x217.44)\n"
     ]
    },
    {
     "data": {
      "image/png": "[encoded data removed]",
      "text/plain": [
       "<Figure size 432x288 with 1 Axes>"
      ]
     },
     "metadata": {
      "needs_background": "light"
     },
     "output_type": "display_data"
    }
   ],
   "source": [
    "print(plt.imshow(X_test[4]))"
   ]
  },
  {
   "cell_type": "code",
   "execution_count": null,
   "id": "f00202e9",
   "metadata": {},
   "outputs": [],
   "source": []
  }
 ],
 "metadata": {
  "kernelspec": {
   "display_name": "Python 3",
   "language": "python",
   "name": "python3"
  },
  "language_info": {
   "codemirror_mode": {
    "name": "ipython",
    "version": 3
   },
   "file_extension": ".py",
   "mimetype": "text/x-python",
   "name": "python",
   "nbconvert_exporter": "python",
   "pygments_lexer": "ipython3",
   "version": "3.8.8"
  }
 },
 "nbformat": 4,
 "nbformat_minor": 5
}
